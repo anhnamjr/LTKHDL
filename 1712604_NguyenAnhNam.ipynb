{
 "cells": [
  {
   "cell_type": "markdown",
   "metadata": {},
   "source": [
    "# Đồ án cuối kỳ - Lập trình cho khoa học dữ liệu  \n",
    "Họ và tên: Nguyễn Anh Nam  \n",
    "MSSV: 1712604"
   ]
  },
  {
   "cell_type": "markdown",
   "metadata": {},
   "source": [
    "---"
   ]
  },
  {
   "cell_type": "markdown",
   "metadata": {},
   "source": [
    "## Import"
   ]
  },
  {
   "cell_type": "code",
   "execution_count": 1,
   "metadata": {},
   "outputs": [],
   "source": [
    "%matplotlib inline\n",
    "import pandas as pd\n",
    "import numpy as np\n",
    "import matplotlib.pyplot as plt"
   ]
  },
  {
   "cell_type": "markdown",
   "metadata": {},
   "source": [
    "---"
   ]
  },
  {
   "cell_type": "markdown",
   "metadata": {},
   "source": [
    "## Lấy dữ liệu"
   ]
  },
  {
   "cell_type": "markdown",
   "metadata": {},
   "source": [
    "Trong đồ án cuối kỳ, em sử dụng file 'full_grouped.csv' trong bộ COVID-19 Dataset được public trên Kaggle; đây là bộ dữ liệu nói về tổng số trường hợp COVID-19 đã được xác nhận bị nhiễm, tử vong và đã phục hồi từ các quốc gia khác nhau từ ngày 22 tháng 1 năm 2020. Dữ liệu gốc [ở đây](https://www.kaggle.com/imdevskp/corona-virus-report?select=covid_19_clean_complete.csv)"
   ]
  },
  {
   "cell_type": "markdown",
   "metadata": {},
   "source": [
    "---"
   ]
  },
  {
   "cell_type": "markdown",
   "metadata": {},
   "source": [
    "## Khám phá dữ liệu"
   ]
  },
  {
   "cell_type": "code",
   "execution_count": 2,
   "metadata": {},
   "outputs": [
    {
     "data": {
      "text/html": [
       "<div>\n",
       "<style scoped>\n",
       "    .dataframe tbody tr th:only-of-type {\n",
       "        vertical-align: middle;\n",
       "    }\n",
       "\n",
       "    .dataframe tbody tr th {\n",
       "        vertical-align: top;\n",
       "    }\n",
       "\n",
       "    .dataframe thead th {\n",
       "        text-align: right;\n",
       "    }\n",
       "</style>\n",
       "<table border=\"1\" class=\"dataframe\">\n",
       "  <thead>\n",
       "    <tr style=\"text-align: right;\">\n",
       "      <th></th>\n",
       "      <th>Date</th>\n",
       "      <th>Country/Region</th>\n",
       "      <th>Confirmed</th>\n",
       "      <th>Deaths</th>\n",
       "      <th>Recovered</th>\n",
       "      <th>Active</th>\n",
       "      <th>New cases</th>\n",
       "      <th>New deaths</th>\n",
       "      <th>New recovered</th>\n",
       "      <th>WHO Region</th>\n",
       "    </tr>\n",
       "  </thead>\n",
       "  <tbody>\n",
       "    <tr>\n",
       "      <th>0</th>\n",
       "      <td>2020-01-22</td>\n",
       "      <td>Afghanistan</td>\n",
       "      <td>0</td>\n",
       "      <td>0</td>\n",
       "      <td>0</td>\n",
       "      <td>0</td>\n",
       "      <td>0</td>\n",
       "      <td>0</td>\n",
       "      <td>0</td>\n",
       "      <td>Eastern Mediterranean</td>\n",
       "    </tr>\n",
       "    <tr>\n",
       "      <th>1</th>\n",
       "      <td>2020-01-22</td>\n",
       "      <td>Albania</td>\n",
       "      <td>0</td>\n",
       "      <td>0</td>\n",
       "      <td>0</td>\n",
       "      <td>0</td>\n",
       "      <td>0</td>\n",
       "      <td>0</td>\n",
       "      <td>0</td>\n",
       "      <td>Europe</td>\n",
       "    </tr>\n",
       "    <tr>\n",
       "      <th>2</th>\n",
       "      <td>2020-01-22</td>\n",
       "      <td>Algeria</td>\n",
       "      <td>0</td>\n",
       "      <td>0</td>\n",
       "      <td>0</td>\n",
       "      <td>0</td>\n",
       "      <td>0</td>\n",
       "      <td>0</td>\n",
       "      <td>0</td>\n",
       "      <td>Africa</td>\n",
       "    </tr>\n",
       "    <tr>\n",
       "      <th>3</th>\n",
       "      <td>2020-01-22</td>\n",
       "      <td>Andorra</td>\n",
       "      <td>0</td>\n",
       "      <td>0</td>\n",
       "      <td>0</td>\n",
       "      <td>0</td>\n",
       "      <td>0</td>\n",
       "      <td>0</td>\n",
       "      <td>0</td>\n",
       "      <td>Europe</td>\n",
       "    </tr>\n",
       "    <tr>\n",
       "      <th>4</th>\n",
       "      <td>2020-01-22</td>\n",
       "      <td>Angola</td>\n",
       "      <td>0</td>\n",
       "      <td>0</td>\n",
       "      <td>0</td>\n",
       "      <td>0</td>\n",
       "      <td>0</td>\n",
       "      <td>0</td>\n",
       "      <td>0</td>\n",
       "      <td>Africa</td>\n",
       "    </tr>\n",
       "    <tr>\n",
       "      <th>...</th>\n",
       "      <td>...</td>\n",
       "      <td>...</td>\n",
       "      <td>...</td>\n",
       "      <td>...</td>\n",
       "      <td>...</td>\n",
       "      <td>...</td>\n",
       "      <td>...</td>\n",
       "      <td>...</td>\n",
       "      <td>...</td>\n",
       "      <td>...</td>\n",
       "    </tr>\n",
       "    <tr>\n",
       "      <th>35151</th>\n",
       "      <td>2020-07-27</td>\n",
       "      <td>West Bank and Gaza</td>\n",
       "      <td>10621</td>\n",
       "      <td>78</td>\n",
       "      <td>3752</td>\n",
       "      <td>6791</td>\n",
       "      <td>152</td>\n",
       "      <td>2</td>\n",
       "      <td>0</td>\n",
       "      <td>Eastern Mediterranean</td>\n",
       "    </tr>\n",
       "    <tr>\n",
       "      <th>35152</th>\n",
       "      <td>2020-07-27</td>\n",
       "      <td>Western Sahara</td>\n",
       "      <td>10</td>\n",
       "      <td>1</td>\n",
       "      <td>8</td>\n",
       "      <td>1</td>\n",
       "      <td>0</td>\n",
       "      <td>0</td>\n",
       "      <td>0</td>\n",
       "      <td>Africa</td>\n",
       "    </tr>\n",
       "    <tr>\n",
       "      <th>35153</th>\n",
       "      <td>2020-07-27</td>\n",
       "      <td>Yemen</td>\n",
       "      <td>1691</td>\n",
       "      <td>483</td>\n",
       "      <td>833</td>\n",
       "      <td>375</td>\n",
       "      <td>10</td>\n",
       "      <td>4</td>\n",
       "      <td>36</td>\n",
       "      <td>Eastern Mediterranean</td>\n",
       "    </tr>\n",
       "    <tr>\n",
       "      <th>35154</th>\n",
       "      <td>2020-07-27</td>\n",
       "      <td>Zambia</td>\n",
       "      <td>4552</td>\n",
       "      <td>140</td>\n",
       "      <td>2815</td>\n",
       "      <td>1597</td>\n",
       "      <td>71</td>\n",
       "      <td>1</td>\n",
       "      <td>465</td>\n",
       "      <td>Africa</td>\n",
       "    </tr>\n",
       "    <tr>\n",
       "      <th>35155</th>\n",
       "      <td>2020-07-27</td>\n",
       "      <td>Zimbabwe</td>\n",
       "      <td>2704</td>\n",
       "      <td>36</td>\n",
       "      <td>542</td>\n",
       "      <td>2126</td>\n",
       "      <td>192</td>\n",
       "      <td>2</td>\n",
       "      <td>24</td>\n",
       "      <td>Africa</td>\n",
       "    </tr>\n",
       "  </tbody>\n",
       "</table>\n",
       "<p>35156 rows × 10 columns</p>\n",
       "</div>"
      ],
      "text/plain": [
       "             Date      Country/Region  Confirmed  Deaths  Recovered  Active  \\\n",
       "0      2020-01-22         Afghanistan          0       0          0       0   \n",
       "1      2020-01-22             Albania          0       0          0       0   \n",
       "2      2020-01-22             Algeria          0       0          0       0   \n",
       "3      2020-01-22             Andorra          0       0          0       0   \n",
       "4      2020-01-22              Angola          0       0          0       0   \n",
       "...           ...                 ...        ...     ...        ...     ...   \n",
       "35151  2020-07-27  West Bank and Gaza      10621      78       3752    6791   \n",
       "35152  2020-07-27      Western Sahara         10       1          8       1   \n",
       "35153  2020-07-27               Yemen       1691     483        833     375   \n",
       "35154  2020-07-27              Zambia       4552     140       2815    1597   \n",
       "35155  2020-07-27            Zimbabwe       2704      36        542    2126   \n",
       "\n",
       "       New cases  New deaths  New recovered             WHO Region  \n",
       "0              0           0              0  Eastern Mediterranean  \n",
       "1              0           0              0                 Europe  \n",
       "2              0           0              0                 Africa  \n",
       "3              0           0              0                 Europe  \n",
       "4              0           0              0                 Africa  \n",
       "...          ...         ...            ...                    ...  \n",
       "35151        152           2              0  Eastern Mediterranean  \n",
       "35152          0           0              0                 Africa  \n",
       "35153         10           4             36  Eastern Mediterranean  \n",
       "35154         71           1            465                 Africa  \n",
       "35155        192           2             24                 Africa  \n",
       "\n",
       "[35156 rows x 10 columns]"
      ]
     },
     "execution_count": 2,
     "metadata": {},
     "output_type": "execute_result"
    }
   ],
   "source": [
    "covid_df = pd.read_csv('full_grouped.csv')\n",
    "covid_df"
   ]
  },
  {
   "cell_type": "markdown",
   "metadata": {},
   "source": [
    "### Số dòng và số cột của dữ liệu"
   ]
  },
  {
   "cell_type": "code",
   "execution_count": 3,
   "metadata": {},
   "outputs": [
    {
     "name": "stdout",
     "output_type": "stream",
     "text": [
      "Số dòng là: 35156\n",
      "Số cột là: 10\n"
     ]
    }
   ],
   "source": [
    "num_rows = covid_df.shape[0]\n",
    "num_cols = covid_df.shape[1]\n",
    "print(\"Số dòng là: {0}\\nSố cột là: {1}\".format(num_rows, num_cols))"
   ]
  },
  {
   "cell_type": "markdown",
   "metadata": {},
   "source": [
    "### Ý nghĩa của mỗi dòng và mỗi cột:"
   ]
  },
  {
   "cell_type": "markdown",
   "metadata": {},
   "source": [
    "Mỗi cột được mô tả tác giả mô tả như sau:\n",
    "- **Country/Region**: Quốc gia hoặc vùng lãnh thổ.\n",
    "- **Date**: Ngày báo cáo.\n",
    "- **Confirmed**: Tổng số ca nhiễm đến ngày báo cáo.\n",
    "- **Deaths**: Tổng số ca chết đến ngày báo cáo.\n",
    "- **Recovered**: Tổng số ca chữa khỏi đến ngày báo cáo.\n",
    "- **Active**: Tổng số ca còn lại đến ngày báo cáo.\n",
    "- **New cases**: Số ca nhiễm tại ngày báo cáo.\n",
    "- **New deaths**: Số ca chết tại ngày báo cáo.\n",
    "- **New recovered**: Số ca chữa khỏi tại ngày báo cáo.\n",
    "- **WHO Region**: Các khu vực của tổ chức y tế thế giới quy định.\n",
    "\n",
    "Mỗi dòng theo như dữ liệu ta thấy là thông tin về số ca nhiễm, ca tử vong, ca phục hồi tại ngày và khu vực đó."
   ]
  },
  {
   "cell_type": "markdown",
   "metadata": {},
   "source": [
    "### Kiểu dữ liệu của mỗi cột:"
   ]
  },
  {
   "cell_type": "code",
   "execution_count": 4,
   "metadata": {},
   "outputs": [
    {
     "data": {
      "text/plain": [
       "Date              object\n",
       "Country/Region    object\n",
       "Confirmed          int64\n",
       "Deaths             int64\n",
       "Recovered          int64\n",
       "Active             int64\n",
       "New cases          int64\n",
       "New deaths         int64\n",
       "New recovered      int64\n",
       "WHO Region        object\n",
       "dtype: object"
      ]
     },
     "execution_count": 4,
     "metadata": {},
     "output_type": "execute_result"
    }
   ],
   "source": [
    "covid_df.dtypes"
   ]
  },
  {
   "cell_type": "markdown",
   "metadata": {},
   "source": [
    "Ta thấy cột \"Date\" có kiểu dữ liệu là `object` hay kiểu dữ liệu là `str` nhưng trong thực tế `Date` phải có dữ liệu là `Datetime` vì vậy ta phải chuyển kiểu dữ liệu của cột \"Date\" từ `object` sang `Datetime`."
   ]
  },
  {
   "cell_type": "markdown",
   "metadata": {},
   "source": [
    "---"
   ]
  },
  {
   "cell_type": "markdown",
   "metadata": {},
   "source": [
    "## Tiền xử lí"
   ]
  },
  {
   "cell_type": "markdown",
   "metadata": {},
   "source": [
    "### Chuyển dtype của cột \"Date\" sang Datetime"
   ]
  },
  {
   "cell_type": "code",
   "execution_count": 5,
   "metadata": {},
   "outputs": [],
   "source": [
    "covid_df['Date'] = pd.to_datetime(arg=covid_df['Date'])"
   ]
  },
  {
   "cell_type": "code",
   "execution_count": 6,
   "metadata": {},
   "outputs": [
    {
     "data": {
      "text/plain": [
       "Date              datetime64[ns]\n",
       "Country/Region            object\n",
       "Confirmed                  int64\n",
       "Deaths                     int64\n",
       "Recovered                  int64\n",
       "Active                     int64\n",
       "New cases                  int64\n",
       "New deaths                 int64\n",
       "New recovered              int64\n",
       "WHO Region                object\n",
       "dtype: object"
      ]
     },
     "execution_count": 6,
     "metadata": {},
     "output_type": "execute_result"
    }
   ],
   "source": [
    "covid_df.dtypes"
   ]
  },
  {
   "cell_type": "markdown",
   "metadata": {},
   "source": [
    "---"
   ]
  },
  {
   "cell_type": "markdown",
   "metadata": {},
   "source": [
    "## Khám phá dữ liệu"
   ]
  },
  {
   "cell_type": "code",
   "execution_count": 7,
   "metadata": {},
   "outputs": [
    {
     "name": "stdout",
     "output_type": "stream",
     "text": [
      "<class 'pandas.core.frame.DataFrame'>\n",
      "RangeIndex: 35156 entries, 0 to 35155\n",
      "Data columns (total 10 columns):\n",
      " #   Column          Non-Null Count  Dtype         \n",
      "---  ------          --------------  -----         \n",
      " 0   Date            35156 non-null  datetime64[ns]\n",
      " 1   Country/Region  35156 non-null  object        \n",
      " 2   Confirmed       35156 non-null  int64         \n",
      " 3   Deaths          35156 non-null  int64         \n",
      " 4   Recovered       35156 non-null  int64         \n",
      " 5   Active          35156 non-null  int64         \n",
      " 6   New cases       35156 non-null  int64         \n",
      " 7   New deaths      35156 non-null  int64         \n",
      " 8   New recovered   35156 non-null  int64         \n",
      " 9   WHO Region      35156 non-null  object        \n",
      "dtypes: datetime64[ns](1), int64(7), object(2)\n",
      "memory usage: 2.7+ MB\n"
     ]
    }
   ],
   "source": [
    "covid_df.info()"
   ]
  },
  {
   "cell_type": "markdown",
   "metadata": {},
   "source": [
    "### Khoảng thời gian thu thập dữ liệu"
   ]
  },
  {
   "cell_type": "code",
   "execution_count": 8,
   "metadata": {},
   "outputs": [
    {
     "data": {
      "text/html": [
       "<div>\n",
       "<style scoped>\n",
       "    .dataframe tbody tr th:only-of-type {\n",
       "        vertical-align: middle;\n",
       "    }\n",
       "\n",
       "    .dataframe tbody tr th {\n",
       "        vertical-align: top;\n",
       "    }\n",
       "\n",
       "    .dataframe thead th {\n",
       "        text-align: right;\n",
       "    }\n",
       "</style>\n",
       "<table border=\"1\" class=\"dataframe\">\n",
       "  <thead>\n",
       "    <tr style=\"text-align: right;\">\n",
       "      <th></th>\n",
       "      <th>Date</th>\n",
       "    </tr>\n",
       "  </thead>\n",
       "  <tbody>\n",
       "    <tr>\n",
       "      <th>Min</th>\n",
       "      <td>2020-01-22</td>\n",
       "    </tr>\n",
       "    <tr>\n",
       "      <th>Max</th>\n",
       "      <td>2020-07-27</td>\n",
       "    </tr>\n",
       "  </tbody>\n",
       "</table>\n",
       "</div>"
      ],
      "text/plain": [
       "          Date\n",
       "Min 2020-01-22\n",
       "Max 2020-07-27"
      ]
     },
     "execution_count": 8,
     "metadata": {},
     "output_type": "execute_result"
    }
   ],
   "source": [
    "time_range = covid_df['Date'].value_counts().sort_index()\n",
    "col_range_df = pd.DataFrame({'Date': [time_range.index[0],time_range.index[-1]]}, index=['Min', 'Max'])\n",
    "col_range_df"
   ]
  },
  {
   "cell_type": "markdown",
   "metadata": {},
   "source": [
    "---"
   ]
  },
  {
   "cell_type": "markdown",
   "metadata": {},
   "source": [
    "## Đưa ra các câu hỏi cần trả lời"
   ]
  },
  {
   "cell_type": "markdown",
   "metadata": {},
   "source": [
    "Sau khi đã biết rõ hơn về dữ liệu, ta thấy có một số câu hỏi có thể trả lời:\n",
    "- Câu 1: Trong 3 tháng đầu tiên, 10 quốc gia nào có số ca nhiễm Covid cao nhất thế giới?\n",
    "- Câu 2: Tình trạng dịch bệnh của nước bị ảnh hưởng nặng nề nhất đến thời điểm hết ngày 27-07-2020 là như thế nào?\n",
    "- Câu 3: Trong mỗi tháng, quốc gia nào có số ca chết nhiều nhất?\n",
    "- Câu 4: Mất bao nhiêu thời gian (đơn vị là ngày) để dịch covid ảnh hưởng đến toàn thế giới (tất cả các nước và khu vực)?\n",
    "- Câu 5: Tình hình kiểm soát dịch ở Việt Nam như thế nào? Đưa ra nhận xét."
   ]
  },
  {
   "cell_type": "markdown",
   "metadata": {},
   "source": [
    "---"
   ]
  },
  {
   "cell_type": "markdown",
   "metadata": {},
   "source": [
    "## Tiền xử lí"
   ]
  },
  {
   "cell_type": "markdown",
   "metadata": {},
   "source": [
    "Đầu tiên ta phải tiền xử lí bộ dữ liệu lại trước. Vì các câu hỏi đều liên quan đến tháng nên ta thêm cột 'Month' vào dữ liệu."
   ]
  },
  {
   "cell_type": "markdown",
   "metadata": {},
   "source": [
    "### Thêm cột 'Month' vào bộ dữ liệu:"
   ]
  },
  {
   "cell_type": "code",
   "execution_count": 9,
   "metadata": {},
   "outputs": [
    {
     "data": {
      "text/html": [
       "<div>\n",
       "<style scoped>\n",
       "    .dataframe tbody tr th:only-of-type {\n",
       "        vertical-align: middle;\n",
       "    }\n",
       "\n",
       "    .dataframe tbody tr th {\n",
       "        vertical-align: top;\n",
       "    }\n",
       "\n",
       "    .dataframe thead th {\n",
       "        text-align: right;\n",
       "    }\n",
       "</style>\n",
       "<table border=\"1\" class=\"dataframe\">\n",
       "  <thead>\n",
       "    <tr style=\"text-align: right;\">\n",
       "      <th></th>\n",
       "      <th>Date</th>\n",
       "      <th>Country/Region</th>\n",
       "      <th>Confirmed</th>\n",
       "      <th>Deaths</th>\n",
       "      <th>Recovered</th>\n",
       "      <th>Active</th>\n",
       "      <th>New cases</th>\n",
       "      <th>New deaths</th>\n",
       "      <th>New recovered</th>\n",
       "      <th>WHO Region</th>\n",
       "      <th>Month</th>\n",
       "    </tr>\n",
       "  </thead>\n",
       "  <tbody>\n",
       "    <tr>\n",
       "      <th>0</th>\n",
       "      <td>2020-01-22</td>\n",
       "      <td>Afghanistan</td>\n",
       "      <td>0</td>\n",
       "      <td>0</td>\n",
       "      <td>0</td>\n",
       "      <td>0</td>\n",
       "      <td>0</td>\n",
       "      <td>0</td>\n",
       "      <td>0</td>\n",
       "      <td>Eastern Mediterranean</td>\n",
       "      <td>1</td>\n",
       "    </tr>\n",
       "    <tr>\n",
       "      <th>1</th>\n",
       "      <td>2020-01-22</td>\n",
       "      <td>Albania</td>\n",
       "      <td>0</td>\n",
       "      <td>0</td>\n",
       "      <td>0</td>\n",
       "      <td>0</td>\n",
       "      <td>0</td>\n",
       "      <td>0</td>\n",
       "      <td>0</td>\n",
       "      <td>Europe</td>\n",
       "      <td>1</td>\n",
       "    </tr>\n",
       "    <tr>\n",
       "      <th>2</th>\n",
       "      <td>2020-01-22</td>\n",
       "      <td>Algeria</td>\n",
       "      <td>0</td>\n",
       "      <td>0</td>\n",
       "      <td>0</td>\n",
       "      <td>0</td>\n",
       "      <td>0</td>\n",
       "      <td>0</td>\n",
       "      <td>0</td>\n",
       "      <td>Africa</td>\n",
       "      <td>1</td>\n",
       "    </tr>\n",
       "    <tr>\n",
       "      <th>3</th>\n",
       "      <td>2020-01-22</td>\n",
       "      <td>Andorra</td>\n",
       "      <td>0</td>\n",
       "      <td>0</td>\n",
       "      <td>0</td>\n",
       "      <td>0</td>\n",
       "      <td>0</td>\n",
       "      <td>0</td>\n",
       "      <td>0</td>\n",
       "      <td>Europe</td>\n",
       "      <td>1</td>\n",
       "    </tr>\n",
       "    <tr>\n",
       "      <th>4</th>\n",
       "      <td>2020-01-22</td>\n",
       "      <td>Angola</td>\n",
       "      <td>0</td>\n",
       "      <td>0</td>\n",
       "      <td>0</td>\n",
       "      <td>0</td>\n",
       "      <td>0</td>\n",
       "      <td>0</td>\n",
       "      <td>0</td>\n",
       "      <td>Africa</td>\n",
       "      <td>1</td>\n",
       "    </tr>\n",
       "  </tbody>\n",
       "</table>\n",
       "</div>"
      ],
      "text/plain": [
       "        Date Country/Region  Confirmed  Deaths  Recovered  Active  New cases  \\\n",
       "0 2020-01-22    Afghanistan          0       0          0       0          0   \n",
       "1 2020-01-22        Albania          0       0          0       0          0   \n",
       "2 2020-01-22        Algeria          0       0          0       0          0   \n",
       "3 2020-01-22        Andorra          0       0          0       0          0   \n",
       "4 2020-01-22         Angola          0       0          0       0          0   \n",
       "\n",
       "   New deaths  New recovered             WHO Region  Month  \n",
       "0           0              0  Eastern Mediterranean      1  \n",
       "1           0              0                 Europe      1  \n",
       "2           0              0                 Africa      1  \n",
       "3           0              0                 Europe      1  \n",
       "4           0              0                 Africa      1  "
      ]
     },
     "execution_count": 9,
     "metadata": {},
     "output_type": "execute_result"
    }
   ],
   "source": [
    "covid_df = covid_df.assign(Month = lambda x: x['Date'].dt.month)\n",
    "covid_df.head()"
   ]
  },
  {
   "cell_type": "code",
   "execution_count": 10,
   "metadata": {},
   "outputs": [],
   "source": [
    "month_range = covid_df['Month'].value_counts().sort_index()"
   ]
  },
  {
   "cell_type": "markdown",
   "metadata": {},
   "source": [
    "### Miền giá trị của cột 'Month'"
   ]
  },
  {
   "cell_type": "code",
   "execution_count": 11,
   "metadata": {},
   "outputs": [
    {
     "data": {
      "text/html": [
       "<div>\n",
       "<style scoped>\n",
       "    .dataframe tbody tr th:only-of-type {\n",
       "        vertical-align: middle;\n",
       "    }\n",
       "\n",
       "    .dataframe tbody tr th {\n",
       "        vertical-align: top;\n",
       "    }\n",
       "\n",
       "    .dataframe thead th {\n",
       "        text-align: right;\n",
       "    }\n",
       "</style>\n",
       "<table border=\"1\" class=\"dataframe\">\n",
       "  <thead>\n",
       "    <tr style=\"text-align: right;\">\n",
       "      <th></th>\n",
       "      <th>Date</th>\n",
       "      <th>Month</th>\n",
       "    </tr>\n",
       "  </thead>\n",
       "  <tbody>\n",
       "    <tr>\n",
       "      <th>Min</th>\n",
       "      <td>2020-01-22</td>\n",
       "      <td>1</td>\n",
       "    </tr>\n",
       "    <tr>\n",
       "      <th>Max</th>\n",
       "      <td>2020-07-27</td>\n",
       "      <td>7</td>\n",
       "    </tr>\n",
       "  </tbody>\n",
       "</table>\n",
       "</div>"
      ],
      "text/plain": [
       "          Date  Month\n",
       "Min 2020-01-22      1\n",
       "Max 2020-07-27      7"
      ]
     },
     "execution_count": 11,
     "metadata": {},
     "output_type": "execute_result"
    }
   ],
   "source": [
    "col_range_df = col_range_df.join(pd.DataFrame({'Month': [month_range.index[0],\n",
    "                                                         month_range.index[-1]]}, \n",
    "                                              index=['Min', 'Max']))\n",
    "col_range_df"
   ]
  },
  {
   "cell_type": "markdown",
   "metadata": {},
   "source": [
    "---"
   ]
  },
  {
   "cell_type": "markdown",
   "metadata": {},
   "source": [
    "## Trả lời câu hỏi đã đưa ra:"
   ]
  },
  {
   "cell_type": "markdown",
   "metadata": {},
   "source": [
    "### Câu 1: Trong 3 tháng đầu tiên, 10 quốc gia nào có số người nhiễm Covid nhiều nhất trên thế giới?"
   ]
  },
  {
   "cell_type": "markdown",
   "metadata": {},
   "source": [
    "Để trả lời cho câu 1, ta phải thực hiện các bước sau:\n",
    "- Bước 1: Lọc ra bộ dữ liệu gồm những cột \"Date\", \"Country/Region\" và \"New cases\" mà có tháng thuộc khoảng từ tháng 1 -> 3.\n",
    "- Bước 2.1: Group by theo cột \"Country/Region\"\n",
    "- Bước 2.2: Dùng hàm sum() để lấy ra tổng số ca nhiễm của tất cả các quốc gia/vùng lãnh thổ có trong bộ dữ liệu.\n",
    "- Bước 3: Sort values theo cột \"New cases\".\n",
    "- Bước 4: Đổi tên cột 'New cases' thành 'Confirmed' vì đây không phải là số ca nhiễm mới mỗi ngày nữa, nếu để tên là 'New cases' thì sẽ gây ra sự nhầm lẫn.\n",
    "- Bước 5: Lấy 5 hàng đầu tiên của dữ liệu thu được ở bước 4."
   ]
  },
  {
   "cell_type": "code",
   "execution_count": 12,
   "metadata": {},
   "outputs": [
    {
     "data": {
      "text/html": [
       "<div>\n",
       "<style scoped>\n",
       "    .dataframe tbody tr th:only-of-type {\n",
       "        vertical-align: middle;\n",
       "    }\n",
       "\n",
       "    .dataframe tbody tr th {\n",
       "        vertical-align: top;\n",
       "    }\n",
       "\n",
       "    .dataframe thead th {\n",
       "        text-align: right;\n",
       "    }\n",
       "</style>\n",
       "<table border=\"1\" class=\"dataframe\">\n",
       "  <thead>\n",
       "    <tr style=\"text-align: right;\">\n",
       "      <th></th>\n",
       "      <th>Confirmed</th>\n",
       "    </tr>\n",
       "    <tr>\n",
       "      <th>Country/Region</th>\n",
       "      <th></th>\n",
       "    </tr>\n",
       "  </thead>\n",
       "  <tbody>\n",
       "    <tr>\n",
       "      <th>US</th>\n",
       "      <td>188723</td>\n",
       "    </tr>\n",
       "    <tr>\n",
       "      <th>Italy</th>\n",
       "      <td>105792</td>\n",
       "    </tr>\n",
       "    <tr>\n",
       "      <th>Spain</th>\n",
       "      <td>95923</td>\n",
       "    </tr>\n",
       "    <tr>\n",
       "      <th>China</th>\n",
       "      <td>81731</td>\n",
       "    </tr>\n",
       "    <tr>\n",
       "      <th>Germany</th>\n",
       "      <td>71808</td>\n",
       "    </tr>\n",
       "    <tr>\n",
       "      <th>France</th>\n",
       "      <td>52827</td>\n",
       "    </tr>\n",
       "    <tr>\n",
       "      <th>Iran</th>\n",
       "      <td>44605</td>\n",
       "    </tr>\n",
       "    <tr>\n",
       "      <th>United Kingdom</th>\n",
       "      <td>38815</td>\n",
       "    </tr>\n",
       "    <tr>\n",
       "      <th>Switzerland</th>\n",
       "      <td>16605</td>\n",
       "    </tr>\n",
       "    <tr>\n",
       "      <th>Turkey</th>\n",
       "      <td>13531</td>\n",
       "    </tr>\n",
       "  </tbody>\n",
       "</table>\n",
       "</div>"
      ],
      "text/plain": [
       "                Confirmed\n",
       "Country/Region           \n",
       "US                 188723\n",
       "Italy              105792\n",
       "Spain               95923\n",
       "China               81731\n",
       "Germany             71808\n",
       "France              52827\n",
       "Iran                44605\n",
       "United Kingdom      38815\n",
       "Switzerland         16605\n",
       "Turkey              13531"
      ]
     },
     "execution_count": 12,
     "metadata": {},
     "output_type": "execute_result"
    }
   ],
   "source": [
    "# Bước 1\n",
    "three_month_df = covid_df[covid_df[\"Month\"] < col_range_df.loc['Min', 'Month'] + 3]\n",
    "df = three_month_df[['Date', 'Country/Region', 'New cases']]\n",
    "# Bước 2\n",
    "country_df = df.groupby(['Country/Region']).sum()\n",
    "# Bước 3\n",
    "country_df.sort_values(by=[\"New cases\"], ascending=False, inplace=True)\n",
    "# Bước 4\n",
    "country_df.rename(columns={'New cases': 'Confirmed'}, inplace=True)\n",
    "# Bước 5\n",
    "top_countries = country_df.iloc[:10]\n",
    "top_countries"
   ]
  },
  {
   "cell_type": "code",
   "execution_count": 13,
   "metadata": {},
   "outputs": [
    {
     "data": {
      "image/png": "[encoded data removed]",
      "text/plain": [
       "<Figure size 720x504 with 1 Axes>"
      ]
     },
     "metadata": {
      "needs_background": "light"
     },
     "output_type": "display_data"
    }
   ],
   "source": [
    "plt.figure(figsize=(10, 7));\n",
    "plt.barh(top_countries.index,top_countries['Confirmed'])\n",
    "plt.title('Top 10 coutries with highest cases');\n",
    "plt.xlabel('Cases');"
   ]
  },
  {
   "cell_type": "markdown",
   "metadata": {},
   "source": [
    "Qua biểu đồ ta thấy nước Mỹ có số ca nhiễm cao ngất ngưỡng (gần gấp đôi) so với nước đứng thứ nhì về số lượng người nhiễm là nước Ý."
   ]
  },
  {
   "cell_type": "markdown",
   "metadata": {},
   "source": [
    "---"
   ]
  },
  {
   "cell_type": "markdown",
   "metadata": {},
   "source": [
    "### Câu 2: Tình trạng dịch bệnh của nước bị ảnh hưởng nặng nề nhất đến thời điểm hết ngày 27-07-2020 là như thế nào?"
   ]
  },
  {
   "cell_type": "markdown",
   "metadata": {},
   "source": [
    "Ý tưởng để giải quyết câu này:\n",
    "- Bước 1: Tìm ra nước bị ảnh hưởng nặng nề nhất sau ngày 27-07-2020.\n",
    "    - Bước 1.1: Lấy ra dữ liệu có cột 'Country/Region' và 'Confirmed' ngày 27-07-2020. (Cột 'Confirmed' là tính tất cả các ca nhiễm của mỗi nước đến thời điểm ngày 27-07-2020)\n",
    "    - Bước 1.2: Sort value by 'Confirmed' theo chiều giảm dần và lấy ra nước đầu tiên thì nước đó chính là nước chịu ảnh hưởng nặng nề nhất.\n",
    "- Bước 2: Vẽ biểu đồ từ lúc bắt đầu đến lúc thời điểm 27-07-2020 để biết được tình hình dịch bệnh.\n",
    "    - Lấy ra dữ liệu về số ca nhiễm, ca tử vong, ca phục hồi của nước đó qua từng tháng.\n",
    "    - Vẽ biểu đồ."
   ]
  },
  {
   "cell_type": "code",
   "execution_count": 14,
   "metadata": {},
   "outputs": [
    {
     "data": {
      "text/plain": [
       "Country/Region         US\n",
       "Confirmed         4290259\n",
       "Deaths             148011\n",
       "Recovered         1325804\n",
       "Name: 0, dtype: object"
      ]
     },
     "execution_count": 14,
     "metadata": {},
     "output_type": "execute_result"
    }
   ],
   "source": [
    "#Bước 1:\n",
    "recent_df = covid_df[covid_df['Date'] == col_range_df.loc['Max', 'Date']]\n",
    "recent_df = recent_df[['Country/Region', 'Confirmed', 'Deaths', 'Recovered']]\n",
    "recent_df.sort_values(by=['Confirmed'], inplace=True, ascending=False)\n",
    "recent_df.reset_index(drop=True, inplace=True)\n",
    "country_highest_cases  = recent_df.iloc[0]\n",
    "country_highest_cases"
   ]
  },
  {
   "cell_type": "code",
   "execution_count": 15,
   "metadata": {},
   "outputs": [
    {
     "data": {
      "text/html": [
       "<div>\n",
       "<style scoped>\n",
       "    .dataframe tbody tr th:only-of-type {\n",
       "        vertical-align: middle;\n",
       "    }\n",
       "\n",
       "    .dataframe tbody tr th {\n",
       "        vertical-align: top;\n",
       "    }\n",
       "\n",
       "    .dataframe thead th {\n",
       "        text-align: right;\n",
       "    }\n",
       "</style>\n",
       "<table border=\"1\" class=\"dataframe\">\n",
       "  <thead>\n",
       "    <tr style=\"text-align: right;\">\n",
       "      <th></th>\n",
       "      <th>Confirmed</th>\n",
       "      <th>Deaths</th>\n",
       "      <th>Recovered</th>\n",
       "    </tr>\n",
       "    <tr>\n",
       "      <th>Month</th>\n",
       "      <th></th>\n",
       "      <th></th>\n",
       "      <th></th>\n",
       "    </tr>\n",
       "  </thead>\n",
       "  <tbody>\n",
       "    <tr>\n",
       "      <th>1</th>\n",
       "      <td>7</td>\n",
       "      <td>0</td>\n",
       "      <td>0</td>\n",
       "    </tr>\n",
       "    <tr>\n",
       "      <th>2</th>\n",
       "      <td>24</td>\n",
       "      <td>1</td>\n",
       "      <td>7</td>\n",
       "    </tr>\n",
       "    <tr>\n",
       "      <th>3</th>\n",
       "      <td>188724</td>\n",
       "      <td>5605</td>\n",
       "      <td>7024</td>\n",
       "    </tr>\n",
       "    <tr>\n",
       "      <th>4</th>\n",
       "      <td>1072667</td>\n",
       "      <td>64256</td>\n",
       "      <td>153947</td>\n",
       "    </tr>\n",
       "    <tr>\n",
       "      <th>5</th>\n",
       "      <td>1799124</td>\n",
       "      <td>105364</td>\n",
       "      <td>444758</td>\n",
       "    </tr>\n",
       "    <tr>\n",
       "      <th>6</th>\n",
       "      <td>2636414</td>\n",
       "      <td>127432</td>\n",
       "      <td>720631</td>\n",
       "    </tr>\n",
       "    <tr>\n",
       "      <th>7</th>\n",
       "      <td>4290259</td>\n",
       "      <td>148011</td>\n",
       "      <td>1325804</td>\n",
       "    </tr>\n",
       "  </tbody>\n",
       "</table>\n",
       "</div>"
      ],
      "text/plain": [
       "       Confirmed  Deaths  Recovered\n",
       "Month                              \n",
       "1              7       0          0\n",
       "2             24       1          7\n",
       "3         188724    5605       7024\n",
       "4        1072667   64256     153947\n",
       "5        1799124  105364     444758\n",
       "6        2636414  127432     720631\n",
       "7        4290259  148011    1325804"
      ]
     },
     "execution_count": 15,
     "metadata": {},
     "output_type": "execute_result"
    }
   ],
   "source": [
    "#Bước 2:\n",
    "df = covid_df[covid_df['Country/Region'] == country_highest_cases['Country/Region']]\n",
    "US_df = df[['Month','Confirmed', 'Deaths','Recovered']].groupby(['Month']).max()\n",
    "US_df"
   ]
  },
  {
   "cell_type": "code",
   "execution_count": 16,
   "metadata": {},
   "outputs": [
    {
     "data": {
      "image/png": "[encoded data removed]",
      "text/plain": [
       "<Figure size 720x504 with 1 Axes>"
      ]
     },
     "metadata": {
      "needs_background": "light"
     },
     "output_type": "display_data"
    }
   ],
   "source": [
    "fig, ax = plt.subplots(figsize=(10,7))\n",
    "\n",
    "ax.plot(US_df.index, US_df['Confirmed'], 'ro-', label='Confirmed')\n",
    "ax.plot(US_df.index, US_df['Deaths'], 'ko-', label='Deaths')\n",
    "ax.plot(US_df.index, US_df['Recovered'], 'bo-', label='Recovered')\n",
    "legend = ax.legend(loc='upper center', shadow=True, fontsize='x-large')\n",
    "plt.xlabel('Month')\n",
    "plt.ylabel('Cases')\n",
    "plt.title('Covid in US')\n",
    "plt.show()"
   ]
  },
  {
   "cell_type": "markdown",
   "metadata": {},
   "source": [
    "Từ biểu đồ của câu 1 và biểu đồ của câu 2, ta thấy nước Mỹ từ lúc vượt mặt Trung Quốc để trở thành nước có nhiều ca nhiễm nhất trên thế giới thì số ca nhiễm của nước Mỹ tăng rất nhanh - độ dốc của biểu đồ đường màu đó càng ngày càng cao hơn. Vậy lí do vì sao mà nước Mỹ - một nước tiên tiến về mặt khoa học công nghệ, cộng cho trình độ y tế thuộc loại hiện đại nhất thế giới lại - lại bị ảnh hưởng nặng nề đến như vậy?  \n",
    "Câu trả lời là: \n",
    "- Do chính sách chống dịch của Mỹ có vấn đề, mỗi bang lại có cách chống dịch mỗi kiểu, không thống nhất với nhau.\n",
    "- Thiếu hụt thiết bị y tế, ngày càng có nhiều người bị nhiễm Covid 19 nên các bệnh viện ở đây đã bắt đầu quá tải và thiếu hụt thiết bị y tế cũng như nhân lực.\n",
    "- Người dân ở đây không tin tưởng vào cách phòng chống dịch của chính phủ, có nhiều cuộc biểu tình chống đối việc đeo khẩu trang, cách li xã hội. Ngoài ra còn có một số nhóm người vẫn còn chủ quan về dịch chẳng hạn như mở tiệc mời những người bị nhiễm covid tới và đặt cược xem ai bị nhiễm covid đầu tiên thì sẽ thắng (nguồn ở [đây](https://www.24h.com.vn/tin-tuc-quoc-te/my-thanh-nien-mo-tiec-covid-19-tu-lay-nhiem-cho-nhau-c415a1147006.html)) cho thấy ý thức vẫn còn rất kém."
   ]
  },
  {
   "cell_type": "markdown",
   "metadata": {},
   "source": [
    "---"
   ]
  },
  {
   "cell_type": "markdown",
   "metadata": {},
   "source": [
    "### Câu 3: Trong mỗi tháng, quốc gia nào có số ca chết nhiều nhất?"
   ]
  },
  {
   "cell_type": "markdown",
   "metadata": {},
   "source": [
    "Ý tưởng để giải quyết câu này là:\n",
    "- Bước 1: Lấy ra dữ liệu gồm các cột 'Month', 'Country/Region', 'New deaths'.\n",
    "- Bước 2: Group by cột 'Month', 'Country/Region' và sau đó lấy sum()\n",
    "- Bước 3: Với mỗi tháng tìm xem nước nào có số chết nhiều nhất và đưa vào dictionary `month_dict`"
   ]
  },
  {
   "cell_type": "code",
   "execution_count": 17,
   "metadata": {},
   "outputs": [
    {
     "data": {
      "text/plain": [
       "{1: {'China': 196},\n",
       " 2: {'China': 2624},\n",
       " 3: {'Italy': 12399},\n",
       " 4: {'US': 58651},\n",
       " 5: {'US': 41108},\n",
       " 6: {'Brazil': 30280},\n",
       " 7: {'Brazil': 28024}}"
      ]
     },
     "execution_count": 17,
     "metadata": {},
     "output_type": "execute_result"
    }
   ],
   "source": [
    "df = covid_df[['Month', 'Country/Region', 'New deaths']]\n",
    "countries_deaths_df= df.groupby(['Month', 'Country/Region']).sum()\n",
    "countries_deaths_df.rename(columns={'New deaths': 'Deaths'}, inplace=True)\n",
    "\n",
    "month_dict = {}\n",
    "for month in range(col_range_df.loc['Min', 'Month'] , col_range_df.loc['Max', 'Month'] + 1):\n",
    "    death_in_month = countries_deaths_df.loc[month]\n",
    "    for country in death_in_month.index:\n",
    "        if death_in_month.loc[country, 'Deaths'] == death_in_month['Deaths'].max():\n",
    "            month_dict[month] = {country: death_in_month.loc[country, 'Deaths']}\n",
    "            break\n",
    "month_dict"
   ]
  },
  {
   "cell_type": "markdown",
   "metadata": {},
   "source": [
    "---"
   ]
  },
  {
   "cell_type": "markdown",
   "metadata": {},
   "source": [
    "### Câu 4: Mất bao nhiêu thời gian (đơn vị là ngày) để dịch covid ảnh hưởng đến toàn thế giới (tất cả các nước và khu vực)?"
   ]
  },
  {
   "cell_type": "markdown",
   "metadata": {},
   "source": [
    "Ý tưởng để giải quyết câu này:\n",
    "- Bước 1: Group by dữ liệu theo cột 'Date' và 'Country/Region' và lấy ra cột 'Confirmed' để tính tổng số ca nhiễm của mỗi quốc gia hoặc vùng lãnh thổ tại mỗi ngày.\n",
    "- Bước 2: Tìm xem ngày đầu tiên mà tất cả các quốc gia đều có ca nhiễm bằng cách unstack dữ liệu ở bước 1 và kiểm tra xem với ngày đó thì có quốc gia nào không có ca nhiễm không? Nếu tất cả quốc gia đều có ca nhiễm thì lưu ngày đó vào biến `covid_date`.\n",
    "- Bước 3: Tính khoảng thời gian mà toàn cầu đều bị nhiễm covid bằng cách lấy `covid_date - col_range_df.loc['Min', 'Date']` và lưu vào biến `result` "
   ]
  },
  {
   "cell_type": "code",
   "execution_count": 18,
   "metadata": {},
   "outputs": [
    {
     "data": {
      "text/plain": [
       "Timedelta('112 days 00:00:00')"
      ]
     },
     "execution_count": 18,
     "metadata": {},
     "output_type": "execute_result"
    }
   ],
   "source": [
    "df = covid_df.groupby(['Date', 'Country/Region'])['Confirmed'].sum().unstack()\n",
    "\n",
    "covid_date = col_range_df.loc['Min', 'Date']\n",
    "for date in df.index:\n",
    "    is_date = True\n",
    "    for country in df.columns:\n",
    "        if df.loc[date, country] == 0:\n",
    "            is_date = False\n",
    "    if is_date:\n",
    "        covid_date = date\n",
    "        break\n",
    "\n",
    "result = covid_date - col_range_df.loc['Min', 'Date']\n",
    "result"
   ]
  },
  {
   "cell_type": "markdown",
   "metadata": {},
   "source": [
    "Vậy chỉ sau 112 ngày kể từ ngày đầu tiên trong dữ liệu thì toàn bộ các quốc gia và vùng lãnh thổ trong dữ liệu đã có ca nhiễm covid. Tốc độ lây lang là rất nhanh và qua đó cho thấy sự nguy hiểm của dịch Covid đối với toàn thế giới."
   ]
  },
  {
   "cell_type": "markdown",
   "metadata": {},
   "source": [
    "---"
   ]
  },
  {
   "cell_type": "markdown",
   "metadata": {},
   "source": [
    "### Câu 5: Tình hình kiểm soát dịch ở Việt Nam như thế nào?"
   ]
  },
  {
   "cell_type": "markdown",
   "metadata": {},
   "source": [
    "Ý tưởng giải quyết câu này: Cũng giống như ý tưởng của câu 2."
   ]
  },
  {
   "cell_type": "code",
   "execution_count": 19,
   "metadata": {},
   "outputs": [
    {
     "data": {
      "text/html": [
       "<div>\n",
       "<style scoped>\n",
       "    .dataframe tbody tr th:only-of-type {\n",
       "        vertical-align: middle;\n",
       "    }\n",
       "\n",
       "    .dataframe tbody tr th {\n",
       "        vertical-align: top;\n",
       "    }\n",
       "\n",
       "    .dataframe thead th {\n",
       "        text-align: right;\n",
       "    }\n",
       "</style>\n",
       "<table border=\"1\" class=\"dataframe\">\n",
       "  <thead>\n",
       "    <tr style=\"text-align: right;\">\n",
       "      <th></th>\n",
       "      <th>Confirmed</th>\n",
       "      <th>Deaths</th>\n",
       "      <th>Recovered</th>\n",
       "    </tr>\n",
       "    <tr>\n",
       "      <th>Month</th>\n",
       "      <th></th>\n",
       "      <th></th>\n",
       "      <th></th>\n",
       "    </tr>\n",
       "  </thead>\n",
       "  <tbody>\n",
       "    <tr>\n",
       "      <th>1</th>\n",
       "      <td>2</td>\n",
       "      <td>0</td>\n",
       "      <td>0</td>\n",
       "    </tr>\n",
       "    <tr>\n",
       "      <th>2</th>\n",
       "      <td>16</td>\n",
       "      <td>0</td>\n",
       "      <td>16</td>\n",
       "    </tr>\n",
       "    <tr>\n",
       "      <th>3</th>\n",
       "      <td>212</td>\n",
       "      <td>0</td>\n",
       "      <td>58</td>\n",
       "    </tr>\n",
       "    <tr>\n",
       "      <th>4</th>\n",
       "      <td>270</td>\n",
       "      <td>0</td>\n",
       "      <td>225</td>\n",
       "    </tr>\n",
       "    <tr>\n",
       "      <th>5</th>\n",
       "      <td>328</td>\n",
       "      <td>0</td>\n",
       "      <td>279</td>\n",
       "    </tr>\n",
       "    <tr>\n",
       "      <th>6</th>\n",
       "      <td>355</td>\n",
       "      <td>0</td>\n",
       "      <td>335</td>\n",
       "    </tr>\n",
       "    <tr>\n",
       "      <th>7</th>\n",
       "      <td>431</td>\n",
       "      <td>0</td>\n",
       "      <td>365</td>\n",
       "    </tr>\n",
       "  </tbody>\n",
       "</table>\n",
       "</div>"
      ],
      "text/plain": [
       "       Confirmed  Deaths  Recovered\n",
       "Month                              \n",
       "1              2       0          0\n",
       "2             16       0         16\n",
       "3            212       0         58\n",
       "4            270       0        225\n",
       "5            328       0        279\n",
       "6            355       0        335\n",
       "7            431       0        365"
      ]
     },
     "execution_count": 19,
     "metadata": {},
     "output_type": "execute_result"
    }
   ],
   "source": [
    "df = covid_df[covid_df['Country/Region'] == 'Vietnam']\n",
    "VN_df = df[['Month','Confirmed', 'Deaths','Recovered']].groupby(['Month']).max()\n",
    "VN_df"
   ]
  },
  {
   "cell_type": "code",
   "execution_count": 20,
   "metadata": {},
   "outputs": [
    {
     "data": {
      "image/png": "[encoded data removed]",
      "text/plain": [
       "<Figure size 720x504 with 1 Axes>"
      ]
     },
     "metadata": {
      "needs_background": "light"
     },
     "output_type": "display_data"
    }
   ],
   "source": [
    "fig, ax = plt.subplots(figsize=(10,7))\n",
    "\n",
    "ax.plot(VN_df.index, VN_df['Confirmed'], 'ro-', label='Confirmed')\n",
    "ax.plot(VN_df.index, VN_df['Deaths'], 'ko-', label='Deaths')\n",
    "ax.plot(VN_df.index, VN_df['Recovered'], 'bo-', label='Recovered')\n",
    "legend = ax.legend(loc='upper left', shadow=True, fontsize='x-large')\n",
    "plt.xlabel('Month')\n",
    "plt.ylabel('Cases')\n",
    "plt.title('Covid in Vietnam')\n",
    "plt.show()"
   ]
  },
  {
   "cell_type": "markdown",
   "metadata": {},
   "source": [
    "Nhận xét về kết quả:\n",
    "- Trải qua 7 tháng từ khi dịch bắt đầu thì số ca nhiễm Covid-19 của Việt Nam so với các nước trên thế giới là rất ít mặc dù là nước láng giềng của Trung Quốc (nới phát hiện ra ca nhiễm Covid đầu tiên trên thế giới). Kể từ khi nước ta phát hiện ra ca nhiễm đầu tiên thì chính phủ đã ra sức chống dịch bằng cách tìm tất cả những người tiếp xúc hoặc có liên quan đến ca bệnh và bắt buộc đi cách li. Ngoài ra còn có những người từ các tâm dịch ở nước ngoài khi về nước cũng đều bị đi cách li tập trung. Người dân đều ủng hộ chính phủ, chấp nhận nghỉ làm, nghỉ học, cách li xã hội,... để có thể dập tắt dịch nên số ca nhiễm tại Việt Nam rất ít so với các nước khác.\n",
    "- Qua biểu đồ, ta còn thấy số người chết do Covid tại Việt Nam vẫn là con số **0**, và số ca phục hồi cũng gần bằng số ca nhiễm. Cho thấy trình độ y tế của nước ta không kém các nước mạnh về y tế trên thế giới.\n",
    "- So sánh với nước Mỹ câu 1 và 2 thì Việt Nam chống dịch hiệu quả hơn rất nhiều."
   ]
  },
  {
   "cell_type": "markdown",
   "metadata": {},
   "source": [
    "---"
   ]
  },
  {
   "cell_type": "markdown",
   "metadata": {},
   "source": [
    "## Nhìn lại quá trình làm đồ án:"
   ]
  },
  {
   "cell_type": "markdown",
   "metadata": {},
   "source": [
    "Sau khi đã hoàn tất, thì nhìn lại em cảm thấy học được nhiều thứ nhưng vẫn còn gặp một số khó khăn:\n",
    "1. Khó khăn: \n",
    "    - Khó khăn đầu tiên chính là việc chọn dữ liệu và khám phá nó: như trong bộ dữ liệu ban đầu em không thể hiểu được cột 'Active' là gì? Phải thử rất nhiều câu lệnh và tìm hiểu trên Google thì mới biết được.\n",
    "    - Việc đặt câu hỏi cũng là một vấn đề, vì không biết câu hỏi của mình có khó giải quyết hay không? Hay chỉ là 1 dòng code là có thể ra kết quả và sau khi giải quyết câu hỏi đó thì được những gì?\n",
    "1. Học được: \n",
    "    - Học được cách dùng thư viện Pandas thuần thục hơn. Trước đó em vẫn hơi bị confused về câu lệnh groupby(), nhưng trong quá trình làm đồ án, đọc document và tìm hiểu cách dùng nhiều thì đã có thể dùng câu lệnh này dễ dàng hơn.\n",
    "    - Học được cách dùng một số hàm của thư viện plotly để trực quan hóa dữ liệu cho đẹp hơn (nhưng vì em cài đặt thư viện bị lỗi nên không thể dùng được).\n",
    "1. Nếu có thêm thời gian thì có thể em sẽ tìm hiểu một số mô hình có thể dự đoán được số ca nhiễm covid trong tương lai và  giải quyết thêm một số câu hỏi khác?"
   ]
  },
  {
   "cell_type": "markdown",
   "metadata": {},
   "source": [
    "---"
   ]
  },
  {
   "cell_type": "markdown",
   "metadata": {},
   "source": [
    "## Tài liệu tham khảo:"
   ]
  },
  {
   "cell_type": "markdown",
   "metadata": {},
   "source": [
    "https://tuoitre.vn/vi-sao-my-thanh-vung-dich-covid-19-lon-nhat-the-gioi-20200329084219417.htm  \n",
    "https://vtvgo.vn/kho-video/nhieu-nguoi-my-van-noi-khong-voi-khau-trang-801114.html  \n",
    "https://www.24h.com.vn/tin-tuc-quoc-te/my-thanh-nien-mo-tiec-covid-19-tu-lay-nhiem-cho-nhau-c415a1147006.html  \n",
    "https://pandas.pydata.org/docs/  \n",
    "https://www.kaggle.com/  \n",
    "https://machinelearningmastery.com/make-predictions-time-series-forecasting-python/  \n",
    "https://plotly.com/  \n",
    "https://matplotlib.org/"
   ]
  }
 ],
 "metadata": {
  "kernelspec": {
   "display_name": "Python 3",
   "language": "python",
   "name": "python3"
  },
  "language_info": {
   "codemirror_mode": {
    "name": "ipython",
    "version": 3
   },
   "file_extension": ".py",
   "mimetype": "text/x-python",
   "name": "python",
   "nbconvert_exporter": "python",
   "pygments_lexer": "ipython3",
   "version": "3.7.6"
  }
 },
 "nbformat": 4,
 "nbformat_minor": 4
}
